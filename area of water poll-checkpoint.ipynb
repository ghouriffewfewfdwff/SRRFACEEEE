{
 "cells": [
  {
   "cell_type": "markdown",
   "id": "9fc25f7b",
   "metadata": {},
   "source": [
    "## Area of water poll"
   ]
  },
  {
   "cell_type": "code",
   "execution_count": 1,
   "id": "e1a658c3",
   "metadata": {},
   "outputs": [
    {
     "name": "stdout",
     "output_type": "stream",
     "text": [
      "enter your length123.14\n",
      "enter your width125.67\n",
      "the value of area 15475.0038 meter square\n"
     ]
    }
   ],
   "source": [
    "length = float(input(\"enter your length\"))\n",
    "width = float(input(\"enter your width\"))\n",
    "area = (length*width)\n",
    "print(\"the value of area\",area,\"meter square\")"
   ]
  },
  {
   "cell_type": "markdown",
   "id": "95f0960d",
   "metadata": {},
   "source": [
    "## Surface area of water poll"
   ]
  },
  {
   "cell_type": "code",
   "execution_count": 2,
   "id": "d66c41f0",
   "metadata": {},
   "outputs": [
    {
     "name": "stdout",
     "output_type": "stream",
     "text": [
      "enter your radius: 25\n",
      "surface area is 7850.0 meter cube\n"
     ]
    }
   ],
   "source": [
    "r = float(input(\"enter your radius: \"))\n",
    "surface=4*3.14*r*r\n",
    "print(f\"surface area is {surface} meter cube\")"
   ]
  },
  {
   "cell_type": "markdown",
   "id": "4fa8c939",
   "metadata": {},
   "source": [
    "## Salery of labour"
   ]
  },
  {
   "cell_type": "code",
   "execution_count": 3,
   "id": "73a05182",
   "metadata": {},
   "outputs": [
    {
     "name": "stdout",
     "output_type": "stream",
     "text": [
      "<class 'int'> 103.166692\n"
     ]
    }
   ],
   "source": [
    "per_meter = 150\n",
    "salery = (area/per_meter)\n",
    "print (int,salery)"
   ]
  },
  {
   "cell_type": "markdown",
   "id": "c0e04a35",
   "metadata": {},
   "source": [
    "## unit convert"
   ]
  },
  {
   "cell_type": "code",
   "execution_count": 6,
   "id": "a63b356a",
   "metadata": {},
   "outputs": [
    {
     "name": "stdout",
     "output_type": "stream",
     "text": [
      "convert unit is:  7850000.0\n"
     ]
    }
   ],
   "source": [
    "convert_unit = surface*1000\n",
    "print(\"convert unit is: \",convert_unit)"
   ]
  },
  {
   "cell_type": "markdown",
   "id": "43085c5e",
   "metadata": {},
   "source": [
    "## Total prosess are here"
   ]
  },
  {
   "cell_type": "code",
   "execution_count": 7,
   "id": "f7d4c42c",
   "metadata": {},
   "outputs": [
    {
     "name": "stdout",
     "output_type": "stream",
     "text": [
      "\n",
      "the area is: 15475.0038 : meter cube\n",
      "the surface area is: 7850.0 : meter cube  \n",
      "male salery: 103.166692 : \n",
      "convert inton leter: 7850000.0 : leter\n",
      "\n",
      "\n"
     ]
    }
   ],
   "source": [
    "print(f\"\"\"\n",
    "the area is: {area} : meter cube\n",
    "the surface area is: {surface} : meter cube  \n",
    "male salery: {salery} : \n",
    "convert inton leter: {convert_unit} : leter\n",
    "\n",
    "\"\"\")"
   ]
  },
  {
   "cell_type": "markdown",
   "id": "98ef9912",
   "metadata": {},
   "source": [
    "# Project complete"
   ]
  },
  {
   "cell_type": "code",
   "execution_count": null,
   "id": "1463ebde",
   "metadata": {},
   "outputs": [],
   "source": []
  }
 ],
 "metadata": {
  "kernelspec": {
   "display_name": "Python 3 (ipykernel)",
   "language": "python",
   "name": "python3"
  },
  "language_info": {
   "codemirror_mode": {
    "name": "ipython",
    "version": 3
   },
   "file_extension": ".py",
   "mimetype": "text/x-python",
   "name": "python",
   "nbconvert_exporter": "python",
   "pygments_lexer": "ipython3",
   "version": "3.9.12"
  }
 },
 "nbformat": 4,
 "nbformat_minor": 5
}
