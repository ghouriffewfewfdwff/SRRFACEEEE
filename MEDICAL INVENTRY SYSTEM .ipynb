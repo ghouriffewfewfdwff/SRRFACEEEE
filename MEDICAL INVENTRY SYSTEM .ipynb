{
  "nbformat": 4,
  "nbformat_minor": 0,
  "metadata": {
    "colab": {
      "provenance": [],
      "authorship_tag": "ABX9TyPXpZ8csLZ5WLu1DpWEPNg9"
    },
    "kernelspec": {
      "name": "python3",
      "display_name": "Python 3"
    },
    "language_info": {
      "name": "python"
    }
  },
  "cells": [
    {
      "cell_type": "markdown",
      "source": [],
      "metadata": {
        "id": "OEJ0lu6qjLO3"
      }
    },
    {
      "cell_type": "markdown",
      "source": [
        "# MADICAL INVENTERY SYSTEM"
      ],
      "metadata": {
        "id": "1PB_dsnvgIzz"
      }
    },
    {
      "cell_type": "code",
      "source": [
        "import pandas as pd"
      ],
      "metadata": {
        "id": "k-QiWncLgTPb"
      },
      "execution_count": 1,
      "outputs": []
    },
    {
      "cell_type": "code",
      "source": [
        "from openpyxl import load_workbook"
      ],
      "metadata": {
        "id": "ZB4yfNO4ga3q"
      },
      "execution_count": 2,
      "outputs": []
    },
    {
      "cell_type": "code",
      "source": [
        "from tabulate import tabulate"
      ],
      "metadata": {
        "id": "ixdI-oYfgfif"
      },
      "execution_count": 3,
      "outputs": []
    },
    {
      "cell_type": "code",
      "source": [
        "import os"
      ],
      "metadata": {
        "id": "8LDqQhpngmgR"
      },
      "execution_count": 4,
      "outputs": []
    },
    {
      "cell_type": "code",
      "execution_count": 5,
      "metadata": {
        "colab": {
          "base_uri": "https://localhost:8080/"
        },
        "id": "khHnz5O0fVu1",
        "outputId": "4733d1c7-a148-40aa-c1b8-30717671e41b"
      },
      "outputs": [
        {
          "output_type": "stream",
          "name": "stdout",
          "text": [
            "===========================\n",
            "\n",
            "Doctor Inventory System\n",
            "1. Add item\n",
            "2. Remove item\n",
            "3. View inventory\n",
            "4. Invoice and Exit\n",
            "Enter your choice: 1\n",
            "=============================\n",
            "Enter the item name: panadool\n",
            "Enter the quantity: 100\n",
            "===========================\n",
            "\n",
            "Doctor Inventory System\n",
            "1. Add item\n",
            "2. Remove item\n",
            "3. View inventory\n",
            "4. Invoice and Exit\n",
            "Enter your choice: 1\n",
            "=============================\n",
            "Enter the item name: ss\n",
            "Enter the quantity: 200\n",
            "===========================\n",
            "\n",
            "Doctor Inventory System\n",
            "1. Add item\n",
            "2. Remove item\n",
            "3. View inventory\n",
            "4. Invoice and Exit\n",
            "Enter your choice: 3\n",
            "=============================\n",
            "panadool:100\n",
            "ss:200\n",
            "===========================\n",
            "\n",
            "Doctor Inventory System\n",
            "1. Add item\n",
            "2. Remove item\n",
            "3. View inventory\n",
            "4. Invoice and Exit\n",
            "Enter your choice: 4\n",
            "=============================\n",
            "+----+----------+------------+\n",
            "|    | Item     |   Quantity |\n",
            "|----+----------+------------|\n",
            "|  0 | panadool |        100 |\n",
            "|  1 | ss       |        200 |\n",
            "+----+----------+------------+\n"
          ]
        }
      ],
      "source": [
        "# Create a dictionary to store the inventory.\n",
        "inventory = {}\n",
        "\n",
        "# Create a function to add items to the inventory.\n",
        "def add_item():\n",
        "    item_name = input(\"Enter the item name: \")\n",
        "    quantity = int(input(\"Enter the quantity: \"))\n",
        "    inventory[item_name] = quantity\n",
        "\n",
        "# Create a function to remove items from the inventory.\n",
        "def remove_item():\n",
        "    item_name = input(\"Enter the item name: \")\n",
        "    if item_name in inventory:\n",
        "        quantity = int(input(\"Enter the quantity to remove: \"))\n",
        "        inventory[item_name] -= quantity\n",
        "    if inventory[item_name] <= 0:\n",
        "        del inventory[item_name]\n",
        "    else:\n",
        "        print(\"Item not found in inventory.\")\n",
        "\n",
        "# Create a function to view the inventory.\n",
        "def view_inventory():\n",
        "    for item_name,quantity in inventory.items():\n",
        "        print(f\"{item_name}:{quantity}\")\n",
        "def invoice():\n",
        "    df = pd.DataFrame(inventory.items(), columns=['Item','Quantity'])\n",
        "    print(tabulate(df, headers='keys', tablefmt='psql'))\n",
        "# Main loop to interact with the user.\n",
        "while True:\n",
        "    print(\"===========================\")\n",
        "    print(\"\\nDoctor Inventory System\")\n",
        "    print(\"1. Add item\")\n",
        "    print(\"2. Remove item\")\n",
        "    print(\"3. View inventory\")\n",
        "    print(\"4. Invoice and Exit\")\n",
        "    choice = input(\"Enter your choice: \")\n",
        "    print(\"=============================\")\n",
        "    if choice == '1':\n",
        "        add_item()\n",
        "    elif choice == '2':\n",
        "        remove_item()\n",
        "    elif choice == '3':\n",
        "        view_inventory()\n",
        "    elif choice == '4':\n",
        "        invoice()\n",
        "        break\n",
        "    else:\n",
        "        print(\"Invalid choice.\")"
      ]
    },
    {
      "cell_type": "code",
      "source": [],
      "metadata": {
        "id": "fGLOJcbPgwVD"
      },
      "execution_count": null,
      "outputs": []
    }
  ]
}